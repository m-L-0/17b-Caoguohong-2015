{
 "cells": [
  {
   "cell_type": "markdown",
   "metadata": {
    "collapsed": true
   },
   "source": [
    "# FashionMNIST Challenge 之 KNN算法實現"
   ]
  },
  {
   "cell_type": "markdown",
   "metadata": {},
   "source": [
    "## 一、算法原理"
   ]
  },
  {
   "cell_type": "markdown",
   "metadata": {},
   "source": [
    "# PASS"
   ]
  },
  {
   "cell_type": "markdown",
   "metadata": {},
   "source": [
    "## 二、編程實現\n",
    "### 1、设计并训练KNN算法对图片进行分类。"
   ]
  },
  {
   "cell_type": "code",
   "execution_count": 1,
   "metadata": {},
   "outputs": [],
   "source": [
    "import numpy as np\n",
    "import tensorflow as tf\n",
    "\n",
    "\n",
    "def read_tfrecord(filename, tensor=[1, 784], num=5000):\n",
    "    \"\"\"\n",
    "    讀取tfrecord文件數據\n",
    "    :param filename: 文件名\n",
    "    :param tensor: 緯度\n",
    "    :param num: 讀取數據數量\n",
    "    :return: images 圖片數據列表    labels 標籤列表\n",
    "    \"\"\"\n",
    "    filename_queue = tf.train.string_input_producer([filename])\n",
    "    reader = tf.TFRecordReader()\n",
    "    _, serialized_example = reader.read(filename_queue)\n",
    "    features = tf.parse_single_example(serialized_example,\n",
    "                                       features={\n",
    "                                           'label': tf.FixedLenFeature([], tf.int64),\n",
    "                                           'img_val': tf.FixedLenFeature(tensor, tf.float32),\n",
    "                                       })\n",
    "    image = tf.cast(features['img_val'], tf.float64)\n",
    "    label = tf.cast(features['label'], tf.int32)\n",
    "    images = []\n",
    "    labels = []\n",
    "    with tf.Session() as sess:\n",
    "        init_op = tf.global_variables_initializer()\n",
    "        sess.run(init_op)\n",
    "        coord = tf.train.Coordinator()\n",
    "        threads = tf.train.start_queue_runners(coord=coord)\n",
    "        for i in range(num):\n",
    "            example, l = sess.run([image, label])\n",
    "            images.append(np.array(example[0]))\n",
    "            tem = np.zeros((1, 10))\n",
    "            tem[0][l] = 1.0\n",
    "            labels.append(tem[0])\n",
    "            del tem\n",
    "        coord.request_stop()\n",
    "        coord.join(threads=threads)\n",
    "    images = np.array(images)\n",
    "    labels = np.array(labels)\n",
    "    return images, labels\n"
   ]
  },
  {
   "cell_type": "code",
   "execution_count": 2,
   "metadata": {},
   "outputs": [],
   "source": [
    "def KNN():\n",
    "    \"\"\"\n",
    "    KNN核心算法\n",
    "    :return: 計算準確率\n",
    "    \"\"\"\n",
    "    train_x, train_y = read_tfrecord(filename='train.tfrecords', tensor=[1, 784], num=60000)\n",
    "    test_x, test_y = read_tfrecord(filename='test.tfrecords', tensor=[1, 784], num=5000)\n",
    "    # 數據二值化處理\n",
    "    #     for i in range(len(train_x)):\n",
    "    #         for j in range(len(train_x[0])):\n",
    "    #             if train_x[i][j]>0:\n",
    "    #                 train_x[i][j]=1.0\n",
    "    #     print(train_x[0])\n",
    "    #     for i in range(len(test_x)):\n",
    "    #         for j in range(len(test_x[0])):\n",
    "    #             if test_x[i][j] > 0:\n",
    "    #                 test_x[i][j] = 1.0\n",
    "    xtr = tf.placeholder(tf.float32, [None, 784])\n",
    "    xte = tf.placeholder(tf.float32, [784])\n",
    "    distance = tf.sqrt(tf.reduce_sum(tf.pow(tf.add(xtr, tf.negative(xte)), 2), reduction_indices=1))\n",
    "    pred = tf.argmin(distance, 0)\n",
    "    init = tf.global_variables_initializer()\n",
    "    sess = tf.Session()\n",
    "    sess.run(init)\n",
    "\n",
    "\n",
    "    right = 0\n",
    "    for i in range(250):\n",
    "        if i % 50 == 0 and i != 0:\n",
    "            print(\"已处理 {0}，正确率为{1}\".format(i, right / i))\n",
    "        ansIndex = sess.run(pred, {xtr: train_x, xte: test_x[i, :]})\n",
    "        # print('prediction is ', str(np.where(train_y[ansIndex]==np.max(train_y[ansIndex]))))\n",
    "        # print('true value is ', str(np.where(test_y[i]==np.max(test_y[i]))))\n",
    "        if np.argmax(test_y[i]) == np.argmax(train_y[ansIndex]):\n",
    "            right += 1.0\n",
    "    accracy = right / 250.0\n",
    "    print(accracy)\n"
   ]
  },
  {
   "cell_type": "code",
   "execution_count": 3,
   "metadata": {},
   "outputs": [
    {
     "name": "stdout",
     "output_type": "stream",
     "text": [
      "已处理 50，正确率为0.78\n",
      "已处理 100，正确率为0.84\n",
      "已处理 150，正确率为0.84\n",
      "已处理 200，正确率为0.855\n",
      "0.86\n"
     ]
    }
   ],
   "source": [
    "if __name__ == \"__main__\":\n",
    "    KNN()"
   ]
  },
  {
   "cell_type": "markdown",
   "metadata": {},
   "source": [
    "## 三、算法總結\n",
    "1. 嗯，等會再寫總結，懶～～\n",
    "\n",
    "#### 完成時間：2017年11月15日，完成人：土豆豆"
   ]
  }
 ],
 "metadata": {
  "kernelspec": {
   "display_name": "Python 3",
   "language": "python",
   "name": "python3"
  },
  "language_info": {
   "codemirror_mode": {
    "name": "ipython",
    "version": 3
   },
   "file_extension": ".py",
   "mimetype": "text/x-python",
   "name": "python",
   "nbconvert_exporter": "python",
   "pygments_lexer": "ipython3",
   "version": "3.5.4"
  }
 },
 "nbformat": 4,
 "nbformat_minor": 1
}
