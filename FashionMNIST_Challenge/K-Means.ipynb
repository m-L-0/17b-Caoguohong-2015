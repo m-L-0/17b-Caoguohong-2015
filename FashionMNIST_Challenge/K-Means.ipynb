{
 "cells": [
  {
   "cell_type": "markdown",
   "metadata": {
    "collapsed": true
   },
   "source": [
    "# FashionMNIST Challenge 之 K-Means算法實現"
   ]
  },
  {
   "cell_type": "markdown",
   "metadata": {},
   "source": [
    "## 一、算法原理"
   ]
  },
  {
   "cell_type": "markdown",
   "metadata": {},
   "source": [
    "## 二、算法實現\n",
    "### 1. 设计并训练K-Means算法对图片进行聚类"
   ]
  },
  {
   "cell_type": "code",
   "execution_count": null,
   "metadata": {},
   "outputs": [],
   "source": [
    "# 二維數據聚類並繪圖\n",
    "import numpy as np\n",
    "import matplotlib.pyplot as plt\n",
    "% matplotlib inline\n",
    "from sklearn.manifold import TSNE\n",
    "from tensorflow.examples.tutorials.mnist import input_data\n",
    "\n",
    "mnist = input_data.read_data_sets('./data/', one_hot=True)\n",
    "X_embedded = TSNE(n_components=2).fit_transform(mnist.train.next_batch(100)[0]) # TSNE 聚類算法\n",
    "print(X_embedded)\n",
    "x=[];y=[]\n",
    "for a,b in X_embedded:\n",
    "    x.append(a)\n",
    "    y.append(b)\n",
    "plt.scatter(x,y)"
   ]
  },
  {
   "cell_type": "code",
   "execution_count": null,
   "metadata": {},
   "outputs": [],
   "source": [
    "# 三維數據聚類並繪圖\n",
    "from sklearn import datasets\n",
    "from sklearn import decomposition\n",
    "import matplotlib.pyplot as plt\n",
    "import numpy as np\n",
    "# import seaborn\n",
    "from mpl_toolkits.mplot3d import Axes3D\n",
    "%matplotlib inline\n",
    "\n",
    "mnist = datasets.load_digits()\n",
    "X = mnist.data\n",
    "y = mnist.target\n",
    "pca = decomposition.PCA(n_components=3)\n",
    "new_X = pca.fit_transform(X)\n",
    "\n",
    "fig = plt.figure()\n",
    "ax = fig.gca(projection='3d')\n",
    "ax.scatter(new_X[:, 0], new_X[:, 1], new_X[:, 2], c=y, cmap=plt.cm.spectral)\n",
    "plt.show()"
   ]
  },
  {
   "cell_type": "markdown",
   "metadata": {},
   "source": [
    "## 三、實現總結\n",
    "1. 之前的一樣，還是先空著\n",
    "\n",
    "#### 完成時間：2017年11月16日，完成人：土豆豆",
    "\n"
   ]
  }
 ],
 "metadata": {
  "kernelspec": {
   "display_name": "Python 2",
   "language": "python",
   "name": "python2"
  },
  "language_info": {
   "codemirror_mode": {
    "name": "ipython",
    "version": 2
   },
   "file_extension": ".py",
   "mimetype": "text/x-python",
   "name": "python",
   "nbconvert_exporter": "python",
   "pygments_lexer": "ipython2",
   "version": "2.7.6"
  }
 },
 "nbformat": 4,
 "nbformat_minor": 0
}
