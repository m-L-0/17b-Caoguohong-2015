{
 "cells": [
  {
   "cell_type": "markdown",
   "metadata": {
    "collapsed": true
   },
   "source": [
    "# FashionMNIST Challenge 大作業"
   ]
  },
  {
   "cell_type": "markdown",
   "metadata": {},
   "source": [
    "## 作业内容\n",
    "\n",
    "#### 了解并下载Fashion MNIST数据集（请在github上自行学习数据集的格式以及读取方法），完成相关数据集的预处理工作并使用指定的算法对数据集进行分类或者聚类。具体如下：\n",
    "1. 将数据集划分成训练集、验证集、测试集并存储成TFRecord文件。\n",
    "1. 利用matplotlib等工具对TFRecord中的样本数据进行可视化，以验证存储在TFRecord文件中的样本与标记的完整性与对应性，并对数据集有个直观的认识。\n",
    "1. 设计并训练KNN算法对图片进行分类。\n",
    "1. 设计并训练K-Means算法对图片进行聚类。\n",
    "1. 设计并训练NN算法对图片进行分类。\n",
    "1. 根据你的理解对上述每个算法的运行列出关键公式与步骤简述。"
   ]
  },
  {
   "cell_type": "markdown",
   "metadata": {},
   "source": [
    "## 代碼實踐"
   ]
  },
  {
   "cell_type": "markdown",
   "metadata": {},
   "source": [
    "### 一、 将数据集划分成训练集、验证集、测试集并存储成TFRecord文件。"
   ]
  },
  {
   "cell_type": "code",
   "execution_count": null,
   "metadata": {},
   "outputs": [],
   "source": []
  }
 ],
 "metadata": {
  "kernelspec": {
   "display_name": "Python 2",
   "language": "python",
   "name": "python2"
  },
  "language_info": {
   "codemirror_mode": {
    "name": "ipython",
    "version": 2
   },
   "file_extension": ".py",
   "mimetype": "text/x-python",
   "name": "python",
   "nbconvert_exporter": "python",
   "pygments_lexer": "ipython2",
   "version": "2.7.6"
  }
 },
 "nbformat": 4,
 "nbformat_minor": 0
}
