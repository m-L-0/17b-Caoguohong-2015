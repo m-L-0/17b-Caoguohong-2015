{
 "cells": [
  {
   "cell_type": "markdown",
   "metadata": {
    "collapsed": true
   },
   "source": [
    "# FashionMNIST Challenge 大作業"
   ]
  },
  {
   "cell_type": "markdown",
   "metadata": {},
   "source": [
    "## 作业内容\n",
    "\n",
    "#### 了解并下载Fashion MNIST数据集（请在github上自行学习数据集的格式以及读取方法），完成相关数据集的预处理工作并使用指定的算法对数据集进行分类或者聚类。具体如下：\n",
    "1. 将数据集划分成训练集、验证集、测试集并存储成TFRecord文件。\n",
    "1. 利用matplotlib等工具对TFRecord中的样本数据进行可视化，以验证存储在TFRecord文件中的样本与标记的完整性与对应性，并对数据集有个直观的认识。\n",
    "1. 设计并训练KNN算法对图片进行分类。\n",
    "1. 设计并训练K-Means算法对图片进行聚类。\n",
    "1. 设计并训练NN算法对图片进行分类。\n",
    "1. 根据你的理解对上述每个算法的运行列出关键公式与步骤简述。"
   ]
  },
  {
   "cell_type": "markdown",
   "metadata": {},
   "source": [
    "## 代碼實踐"
   ]
  },
  {
   "cell_type": "markdown",
   "metadata": {},
   "source": [
    "### 一、 将数据集划分成训练集、验证集、测试集并存储成TFRecord文件。"
   ]
  },
  {
   "cell_type": "code",
   "execution_count": 3,
   "metadata": {},
   "outputs": [],
   "source": [
    "import os\n",
    "import gzip\n",
    "import numpy as np\n",
    "import tensorflow as tf\n",
    "\n",
    "def load_mnist(path='./data/', kind='train'):\n",
    "    \"\"\"\n",
    "    加載mnist數據集\n",
    "    :param path: 傳入路徑\n",
    "    :param kind: 類別(train or t10k)\n",
    "    :return: images 圖片數據nparrge     lables 標籤列表npaage\n",
    "    \"\"\"\n",
    "    labels_path = os.path.join(path, '{0}-labels-idx1-ubyte.gz'.format(kind))\n",
    "    images_path = os.path.join(path, '{0}-images-idx3-ubyte.gz'.format(kind))\n",
    "\n",
    "    with gzip.open(labels_path, 'rb') as lbpath:\n",
    "        labels = np.frombuffer(lbpath.read(), dtype=np.uint8, offset=8)\n",
    "\n",
    "    with gzip.open(images_path, 'rb') as imgpath:\n",
    "        images = np.frombuffer(imgpath.read(), dtype=np.uint8, offset=16).reshape(len(labels), 784)\n",
    "\n",
    "    return images, labels\n",
    "\n",
    "\n",
    "# img, lab = load_mnist(path='./data/')\n",
    "# print(img)\n",
    "# print(lab)\n"
   ]
  },
  {
   "cell_type": "code",
   "execution_count": 2,
   "metadata": {},
   "outputs": [
    {
     "name": "stdout",
     "output_type": "stream",
     "text": [
      "Extracting ./data/train-images-idx3-ubyte.gz\n",
      "Extracting ./data/train-labels-idx1-ubyte.gz\n",
      "Extracting ./data/t10k-images-idx3-ubyte.gz\n",
      "Extracting ./data/t10k-labels-idx1-ubyte.gz\n"
     ]
    }
   ],
   "source": [
    "# 發現 tensorflow 自帶了讀取 mnist格式的模塊,直接調用好啦٩(｡・ω・｡)و\n",
    "from tensorflow.examples.tutorials.mnist import input_data\n",
    "\n",
    "data = input_data.read_data_sets('./data/', validation_size=5000)\n",
    "\n",
    "\n",
    "# print(data)\n",
    "# print(len(data.train.next_batch(60000)[0]))\n",
    "# print(len(data.validation.next_batch(10000)[0]))\n",
    "# print(len(data.test.next_batch(10000)[0]))\n"
   ]
  },
  {
   "cell_type": "code",
   "execution_count": 3,
   "metadata": {},
   "outputs": [
    {
     "name": "stdout",
     "output_type": "stream",
     "text": [
      "以處理train數據集10000張\n",
      "以處理train數據集20000張\n",
      "以處理train數據集30000張\n",
      "以處理train數據集40000張\n",
      "以處理train數據集50000張\n",
      "train數據集處理完成\n",
      "validation數據集處理完成\n",
      "以處理test數據集10000張\n",
      "test數據集處理完成\n"
     ]
    }
   ],
   "source": [
    "from PIL import Image\n",
    "\n",
    "# imgs, labs = load_mnist()\n",
    "\n",
    "def write_tfrecord(lable, data):\n",
    "    \"\"\"\n",
    "    寫入tfrecords文件數據\n",
    "    :param lable(string): 文件名\n",
    "    :param data(DataSet): 數據列表\n",
    "    \"\"\"\n",
    "    writer = tf.python_io.TFRecordWriter(lable + \".tfrecords\")\n",
    "    num = len(data.labels)\n",
    "    for i in range(num):\n",
    "        if (i + 1) % 10000 == 0:\n",
    "            print(\"以處理{0}數據集{1}張\".format(lable, i + 1))\n",
    "        img = data.images[i]\n",
    "        example = tf.train.Example(features=tf.train.Features(feature={\n",
    "            \"label\": tf.train.Feature(int64_list=tf.train.Int64List(value=[data.labels[i]])),\n",
    "            'img_val': tf.train.Feature(float_list=tf.train.FloatList(value=[img][0]))\n",
    "        }))  # example對象 對label及img_val 進行封裝\n",
    "        writer.write(example.SerializeToString())  # 序列化字符串?\n",
    "        i += 1\n",
    "    print(\"{0}數據集處理完成\".format(lable))\n",
    "    writer.close()\n",
    "\n",
    "\n",
    "# 調用函數，寫入數據\n",
    "write_tfrecord(\"train\", data.train)\n",
    "write_tfrecord(\"validation\", data.validation)\n",
    "write_tfrecord(\"test\", data.test)\n"
   ]
  },
  {
   "cell_type": "markdown",
   "metadata": {},
   "source": [
    "### 二、利用matplotlib等工具对TFRecord中的样本数据进行可视化，以验证存储在TFRecord文件中的样本与标记的完整性与对应性，并对数据集有个直观的认识。"
   ]
  },
  {
   "cell_type": "code",
   "execution_count": 11,
   "metadata": {},
   "outputs": [
    {
     "name": "stdout",
     "output_type": "stream",
     "text": [
      "Tensor(\"Cast_14:0\", shape=(28, 28), dtype=float64)\n",
      "Tensor(\"Cast_15:0\", shape=(), dtype=int32)\n"
     ]
    },
    {
     "data": {
      "image/png": "[encoded data removed]",
      "text/plain": [
       "<matplotlib.figure.Figure at 0x133795160>"
      ]
     },
     "metadata": {},
     "output_type": "display_data"
    },
    {
     "data": {
      "image/png": "[encoded data removed]",
      "text/plain": [
       "<matplotlib.figure.Figure at 0x133795b70>"
      ]
     },
     "metadata": {},
     "output_type": "display_data"
    },
    {
     "data": {
      "image/png": "[encoded data removed]",
      "text/plain": [
       "<matplotlib.figure.Figure at 0x121597d30>"
      ]
     },
     "metadata": {},
     "output_type": "display_data"
    },
    {
     "data": {
      "image/png": "[encoded data removed]",
      "text/plain": [
       "<matplotlib.figure.Figure at 0x1217e1ac8>"
      ]
     },
     "metadata": {},
     "output_type": "display_data"
    },
    {
     "data": {
      "image/png": "[encoded data removed]",
      "text/plain": [
       "<matplotlib.figure.Figure at 0x1307f1908>"
      ]
     },
     "metadata": {},
     "output_type": "display_data"
    }
   ],
   "source": [
    "# 將製作好的 tfrecord 數據集文件讀取出來,並轉換成圖片,以驗證數據是否準確無誤\n",
    "from PIL import Image\n",
    "\n",
    "filename_queue = tf.train.string_input_producer([\"train.tfrecords\"])  # 讀入數據流\n",
    "reader = tf.TFRecordReader()\n",
    "_, serialized_example = reader.read(filename_queue)  # 返回文件名和文件\n",
    "features = tf.parse_single_example(serialized_example,\n",
    "                                   features={\n",
    "                                       'label': tf.FixedLenFeature([], tf.int64),\n",
    "                                       'img_val': tf.FixedLenFeature([28, 28], tf.float32),\n",
    "                                   })  # 取出包含image和label的feature对象\n",
    "image = tf.cast(features['img_val'], tf.float64)\n",
    "label = tf.cast(features['label'], tf.int32)\n",
    "\n",
    "# print(image)\n",
    "# print(label)\n",
    "\n",
    "import matplotlib.pyplot as plt\n",
    "% matplotlib inline\n",
    "\n",
    "\n",
    "with tf.Session() as sess:  # 開始一個對話\n",
    "    init_op = tf.global_variables_initializer()\n",
    "    sess.run(init_op)\n",
    "    coord = tf.train.Coordinator()\n",
    "    threads = tf.train.start_queue_runners(coord=coord)\n",
    "    for i in range(5):\n",
    "        example, l = sess.run([image, label]  # 在會話中取出image和label數據\n",
    "        example *= 255\n",
    "        # print(example)\n",
    "        # example=tf.reshape(example,[28,28])\n",
    "        # example=example.reshape(28,28)\n",
    "        img = Image.fromarray(example)\n",
    "        plt.title(\"The picture number is \" + str(l))\n",
    "        plt.imshow(img)\n",
    "        plt.show(img)\n",
    "    #         example = np.array(example, dtype='uint8')\n",
    "    #         img=Image.fromarray(example)\n",
    "    #         img.save(str(i)+'_''Label_'+str(l)+'.bmp','bmp')# 保存圖\n",
    "    # print(example, l)\n",
    "    coord.request_stop()\n",
    "    coord.join(threads)\n"
   ]
  },
  {
   "cell_type": "markdown",
   "metadata": {},
   "source": [
    "嗯,就醬,matplotlib配置有問題,直接保存在本地了（在老師的幫助下，問題解決了）\n",
    "<img src=\"img/srecc.png\">"
   ]
  },
  {
   "cell_type": "markdown",
   "metadata": {},
   "source": [
    "### 三、设计并训练KNN算法对图片进行分类。"
   ]
  },
  {
   "cell_type": "code",
   "execution_count": 2,
   "metadata": {},
   "outputs": [
    {
     "name": "stdout",
     "output_type": "stream",
     "text": [
      "已处理 50，正确率为0.78\n",
      "已处理 100，正确率为0.84\n",
      "已处理 150，正确率为0.84\n",
      "已处理 200，正确率为0.855\n",
      "0.86\n"
     ]
    }
   ],
   "source": [
    "import numpy as np\n",
    "import tensorflow as tf\n",
    "\n",
    "\n",
    "def read_tfrecord(filename, tensor=[1, 784], num=5000):\n",
    "    \"\"\"\n",
    "    讀取tfrecord文件數據\n",
    "    :param filename: 文件名\n",
    "    :param tensor: 緯度\n",
    "    :param num: 讀取數據數量\n",
    "    :return: images 圖片數據列表    labels 標籤列表\n",
    "    \"\"\"\n",
    "    filename_queue = tf.train.string_input_producer([filename])\n",
    "    reader = tf.TFRecordReader()\n",
    "    _, serialized_example = reader.read(filename_queue)\n",
    "    features = tf.parse_single_example(serialized_example,\n",
    "                                       features={\n",
    "                                           'label': tf.FixedLenFeature([], tf.int64),\n",
    "                                           'img_val': tf.FixedLenFeature(tensor, tf.float32),\n",
    "                                       })\n",
    "    image = tf.cast(features['img_val'], tf.float64)\n",
    "    label = tf.cast(features['label'], tf.int32)\n",
    "    images = []\n",
    "    labels = []\n",
    "    with tf.Session() as sess:\n",
    "        init_op = tf.global_variables_initializer()\n",
    "        sess.run(init_op)\n",
    "        coord = tf.train.Coordinator()\n",
    "        threads = tf.train.start_queue_runners(coord=coord)\n",
    "        for i in range(num):\n",
    "            example, l = sess.run([image, label])\n",
    "            images.append(np.array(example[0]))\n",
    "            tem = np.zeros((1, 10))\n",
    "            tem[0][l] = 1.0\n",
    "            labels.append(tem[0])\n",
    "            del tem\n",
    "        coord.request_stop()\n",
    "        coord.join(threads=threads)\n",
    "    images = np.array(images)\n",
    "    labels = np.array(labels)\n",
    "    return images, labels\n",
    "\n",
    "\n",
    "def KNN():\n",
    "    \"\"\"\n",
    "    KNN核心算法\n",
    "    :return: 計算準確率\n",
    "    \"\"\"\n",
    "    train_x, train_y = read_tfrecord(filename='train.tfrecords', tensor=[1, 784], num=60000)\n",
    "    test_x, test_y = read_tfrecord(filename='test.tfrecords', tensor=[1, 784], num=5000)\n",
    "    # 數據二值化處理\n",
    "    #     for i in range(len(train_x)):\n",
    "    #         for j in range(len(train_x[0])):\n",
    "    #             if train_x[i][j]>0:\n",
    "    #                 train_x[i][j]=1.0\n",
    "    #     print(train_x[0])\n",
    "    #     for i in range(len(test_x)):\n",
    "    #         for j in range(len(test_x[0])):\n",
    "    #             if test_x[i][j] > 0:\n",
    "    #                 test_x[i][j] = 1.0\n",
    "    xtr = tf.placeholder(tf.float32, [None, 784])\n",
    "    xte = tf.placeholder(tf.float32, [784])\n",
    "    distance = tf.sqrt(tf.reduce_sum(tf.pow(tf.add(xtr, tf.negative(xte)), 2), reduction_indices=1))\n",
    "\n",
    "    pred = tf.argmin(distance, 0)\n",
    "\n",
    "    init = tf.global_variables_initializer()\n",
    "\n",
    "    sess = tf.Session()\n",
    "    sess.run(init)\n",
    "\n",
    "    right = 0\n",
    "    for i in range(250):\n",
    "        if i % 50 == 0 and i != 0:\n",
    "            print(\"已处理 {0}，正确率为{1}\".format(i, right / i))\n",
    "        ansIndex = sess.run(pred, {xtr: train_x, xte: test_x[i, :]})\n",
    "        # print('prediction is ', str(np.where(train_y[ansIndex]==np.max(train_y[ansIndex]))))\n",
    "        # print('true value is ', str(np.where(test_y[i]==np.max(test_y[i]))))\n",
    "        if np.argmax(test_y[i]) == np.argmax(train_y[ansIndex]):\n",
    "            right += 1.0\n",
    "    accracy = right / 250.0\n",
    "    print(accracy)\n",
    "\n",
    "\n",
    "if __name__ == \"__main__\":\n",
    "    KNN()\n"
   ]
  },
  {
   "cell_type": "markdown",
   "metadata": {},
   "source": [
    "###  四、设计并训练K-Means算法对图片进行聚类。"
   ]
  },
  {
   "cell_type": "code",
   "execution_count": 12,
   "metadata": {},
   "outputs": [
    {
     "name": "stdout",
     "output_type": "stream",
     "text": [
      "Extracting ./data/train-images-idx3-ubyte.gz\n",
      "Extracting ./data/train-labels-idx1-ubyte.gz\n",
      "Extracting ./data/t10k-images-idx3-ubyte.gz\n",
      "Extracting ./data/t10k-labels-idx1-ubyte.gz\n",
      "[[ 1.88283813  2.37378597]\n",
      " [-1.45977116  1.24813223]\n",
      " [ 2.6609304   8.62931347]\n",
      " [-2.66847682 -8.06812286]\n",
      " [ 2.08950591  7.24701881]\n",
      " [-3.72120881 -4.57552195]\n",
      " [-2.47547126  1.16928363]\n",
      " [-2.73017716 -6.46580029]\n",
      " [-4.64764071 -5.08778763]\n",
      " [-1.18980026  2.97356892]\n",
      " [ 1.02348924  0.40601823]\n",
      " [ 3.44340062  6.70469522]\n",
      " [-3.19285989  6.02897358]\n",
      " [ 3.66099834  3.54267597]\n",
      " [ 0.62274158  3.42340422]\n",
      " [-0.38296175  7.72230911]\n",
      " [-0.06648406  2.807616  ]\n",
      " [ 0.8056072   2.6460743 ]\n",
      " [ 1.47694302  7.29444361]\n",
      " [-3.70716262 -7.38137722]\n",
      " [-1.91140175  0.38047302]\n",
      " [-2.55899906 -3.23979235]\n",
      " [-1.22296751  0.13607982]\n",
      " [-1.60639989 -7.62075329]\n",
      " [-3.97016883 -3.83281326]\n",
      " [ 0.7908079   0.35262921]\n",
      " [ 0.53329325  2.27033925]\n",
      " [ 2.46754265  7.90916014]\n",
      " [-1.81861818 -4.4024477 ]\n",
      " [-1.95632207  0.53474677]\n",
      " [ 2.22211838  6.2877636 ]\n",
      " [-0.06118273  1.86652994]\n",
      " [-4.69296646 -5.89484167]\n",
      " [-3.22314978 -4.68723583]\n",
      " [-3.64203501 -3.75967145]\n",
      " [-2.48933244 -5.46547079]\n",
      " [ 1.80390322  5.25618887]\n",
      " [ 3.47693324  4.18335247]\n",
      " [ 3.31243873  3.59747744]\n",
      " [ 2.51137304  3.23475575]\n",
      " [-3.16310644  6.0344882 ]\n",
      " [-1.28724253 -4.12869549]\n",
      " [ 2.49951696  7.33927774]\n",
      " [-1.64925945 -2.97495794]\n",
      " [-1.60378194  1.73760247]\n",
      " [-1.42631793 -5.12109613]\n",
      " [-1.97820961 -1.95758963]\n",
      " [ 0.28211194  4.07543993]\n",
      " [ 3.43679285  8.89965343]\n",
      " [-3.01682067 -6.41925812]\n",
      " [ 1.48376155  4.57954359]\n",
      " [-2.27035761 -2.5975697 ]\n",
      " [-0.16959742  1.39966476]\n",
      " [ 0.12962601  1.13748598]\n",
      " [ 3.17419219  3.40935159]\n",
      " [-0.79635382 -1.75097561]\n",
      " [ 3.425102    8.11418247]\n",
      " [-4.08797216 -6.65714645]\n",
      " [-0.9303844  -2.18975496]\n",
      " [-2.46767664 -7.84540606]\n",
      " [-1.66320884 -2.65325332]\n",
      " [-2.92416763 -4.29875231]\n",
      " [ 3.30318236  7.44288063]\n",
      " [-4.00928497 -4.58810568]\n",
      " [-0.65464789  0.50833696]\n",
      " [ 2.95708489  4.37685013]\n",
      " [-3.72782063 -7.135396  ]\n",
      " [-3.36927199 -4.33542633]\n",
      " [ 1.20772851  1.95123577]\n",
      " [ 1.13531673  8.71534348]\n",
      " [-3.74241686 -5.93557453]\n",
      " [ 1.06483889  8.77531624]\n",
      " [-2.90766263 -6.25369167]\n",
      " [-3.07620478 -2.75339937]\n",
      " [-2.61636829 -4.50516415]\n",
      " [-1.88549423  1.46652365]\n",
      " [ 1.28043854  3.78356123]\n",
      " [ 0.16939683  6.96789503]\n",
      " [-0.31252375 -1.90374017]\n",
      " [ 0.46485561 -0.30026779]\n",
      " [ 3.12571406  6.55746841]\n",
      " [ 0.17015487  5.49550581]\n",
      " [-2.72201204  1.46426463]\n",
      " [ 1.76151526  6.28831673]\n",
      " [-0.52476203 -1.36931741]\n",
      " [-1.98412991  2.3224194 ]\n",
      " [-4.75617743 -4.26580763]\n",
      " [-2.20213723 -6.86981916]\n",
      " [ 1.43331206  7.87753153]\n",
      " [-2.45375133  0.95903909]\n",
      " [-3.80581665 -5.04098034]\n",
      " [ 1.68638682  6.58427715]\n",
      " [ 2.7048893   4.99707365]\n",
      " [-1.08627594 -0.96961462]\n",
      " [-3.20629025  5.86920404]\n",
      " [ 4.07089996  8.2956171 ]\n",
      " [ 1.67449331  3.81723475]\n",
      " [-0.03867031  0.73107708]\n",
      " [ 3.27182961  7.8543663 ]\n",
      " [ 1.11822796  1.3871392 ]]\n"
     ]
    }
   ],
   "source": [
    "import numpy as np\n",
    "import matplotlib.pyplot as plt\n",
    "% matplotlib inline\n",
    "from sklearn.manifold import TSNE\n",
    "from tensorflow.examples.tutorials.mnist import input_data\n",
    "\n",
    "mnist = input_data.read_data_sets('./data/', one_hot=True)\n",
    "X_embedded = TSNE(n_components=2).fit_transform(mnist.train.next_batch(100)[0]) # TSNE 聚類算法\n",
    "print(X_embedded)\n"
   ]
  },
  {
   "cell_type": "code",
   "execution_count": null,
   "metadata": {},
   "outputs": [],
   "source": []
  },
  {
   "cell_type": "code",
   "execution_count": null,
   "metadata": {},
   "outputs": [],
   "source": []
  },
  {
   "cell_type": "code",
   "execution_count": null,
   "metadata": {},
   "outputs": [],
   "source": []
  },
  {
   "cell_type": "code",
   "execution_count": null,
   "metadata": {},
   "outputs": [],
   "source": []
  }
 ],
 "metadata": {
  "kernelspec": {
   "display_name": "Python 3",
   "language": "python",
   "name": "python3"
  },
  "language_info": {
   "codemirror_mode": {
    "name": "ipython",
    "version": 3
   },
   "file_extension": ".py",
   "mimetype": "text/x-python",
   "name": "python",
   "nbconvert_exporter": "python",
   "pygments_lexer": "ipython3",
   "version": "3.5.4"
  }
 },
 "nbformat": 4,
 "nbformat_minor": 1
}
