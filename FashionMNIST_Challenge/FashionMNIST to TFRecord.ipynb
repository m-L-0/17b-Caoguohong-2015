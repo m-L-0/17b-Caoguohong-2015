{
 "cells": [
  {
   "cell_type": "markdown",
   "metadata": {
    "collapsed": true
   },
   "source": [
    "# FashionMNIST Challenge 之 數據轉儲TFRecord"
   ]
  },
  {
   "cell_type": "markdown",
   "metadata": {},
   "source": [
    "## 一、編程實現\n",
    "### 1、將數據集劃分成為訓練集，驗證集、測試集並存儲為TFRecord文件。"
   ]
  },
  {
   "cell_type": "code",
   "execution_count": null,
   "metadata": {},
   "outputs": [],
   "source": [
    "import os\n",
    "import gzip\n",
    "import numpy as np\n",
    "import tensorflow as tf\n",
    "\n",
    "def load_mnist(path='./data/', kind='train'):\n",
    "    \"\"\"\n",
    "    加載mnist數據集\n",
    "    :param path: 傳入路徑\n",
    "    :param kind: 類別(train or t10k)\n",
    "    :return: images 圖片數據nparrge     lables 標籤列表npaage\n",
    "    \"\"\"\n",
    "    labels_path = os.path.join(path, '{0}-labels-idx1-ubyte.gz'.format(kind))\n",
    "    images_path = os.path.join(path, '{0}-images-idx3-ubyte.gz'.format(kind))\n",
    "\n",
    "    with gzip.open(labels_path, 'rb') as lbpath:\n",
    "        labels = np.frombuffer(lbpath.read(), dtype=np.uint8, offset=8)\n",
    "\n",
    "    with gzip.open(images_path, 'rb') as imgpath:\n",
    "        images = np.frombuffer(imgpath.read(), dtype=np.uint8, offset=16).reshape(len(labels), 784)\n",
    "\n",
    "    return images, labels\n",
    "\n",
    "\n",
    "# 發現 tensorflow 自帶了讀取 mnist格式的模塊,直接調用好啦٩(｡・ω・｡)و\n",
    "from tensorflow.examples.tutorials.mnist import input_data\n",
    "\n",
    "data = input_data.read_data_sets('./data/', validation_size=5000)\n"
   ]
  },
  {
   "cell_type": "code",
   "execution_count": null,
   "metadata": {},
   "outputs": [],
   "source": [
    "def write_tfrecord(lable, data):\n",
    "    \"\"\"\n",
    "    寫入tfrecords文件數據\n",
    "    :param lable(string): 文件名\n",
    "    :param data(DataSet): 數據列表\n",
    "    \"\"\"\n",
    "    writer = tf.python_io.TFRecordWriter(lable + \".tfrecords\")\n",
    "    num = len(data.labels)\n",
    "    for i in range(num):\n",
    "        if (i + 1) % 10000 == 0:\n",
    "            print(\"以處理{0}數據集{1}張\".format(lable, i + 1))\n",
    "        img = data.images[i]\n",
    "        example = tf.train.Example(features=tf.train.Features(feature={\n",
    "            \"label\": tf.train.Feature(int64_list=tf.train.Int64List(value=[data.labels[i]])),\n",
    "            'img_val': tf.train.Feature(float_list=tf.train.FloatList(value=[img][0]))\n",
    "        }))  # example對象 對label及img_val 進行封裝\n",
    "        writer.write(example.SerializeToString())  # 序列化字符串?\n",
    "        i += 1\n",
    "    print(\"{0}數據集處理完成\".format(lable))\n",
    "    writer.close()\n"
   ]
  },
  {
   "cell_type": "code",
   "execution_count": null,
   "metadata": {},
   "outputs": [],
   "source": [
    "# 調用函數，寫入數據\n",
    "write_tfrecord(\"train\", data.train)\n",
    "write_tfrecord(\"validation\", data.validation)\n",
    "write_tfrecord(\"test\", data.test)"
   ]
  },
  {
   "cell_type": "markdown",
   "metadata": {},
   "source": [
    "### 2、利用matplotlib等工具對TFRecord中的樣本數據進行可視化，以驗證存儲在TFRecord文件中的樣本與標記的完整性與其對應性，並對數據集有個直觀的認識。"
   ]
  },
  {
   "cell_type": "code",
   "execution_count": null,
   "metadata": {},
   "outputs": [],
   "source": [
    "# 將製作好的 tfrecord 數據集文件讀取出來,並轉換成圖片,以驗證數據是否準確無誤\n",
    "from PIL import Image\n",
    "\n",
    "filename_queue = tf.train.string_input_producer([\"train.tfrecords\"])  # 讀入數據流\n",
    "reader = tf.TFRecordReader()\n",
    "_, serialized_example = reader.read(filename_queue)  # 返回文件名和文件\n",
    "features = tf.parse_single_example(serialized_example,\n",
    "                                   features={\n",
    "                                       'label': tf.FixedLenFeature([], tf.int64),\n",
    "                                       'img_val': tf.FixedLenFeature([28, 28], tf.float32),\n",
    "                                   })  # 取出包含image和label的feature对象\n",
    "image = tf.cast(features['img_val'], tf.float64)\n",
    "label = tf.cast(features['label'], tf.int32)\n",
    "\n",
    "\n",
    "import matplotlib.pyplot as plt\n",
    "% matplotlib inline\n",
    "\n",
    "\n",
    "with tf.Session() as sess:  # 開始一個對話\n",
    "    init_op = tf.global_variables_initializer()\n",
    "    sess.run(init_op)\n",
    "    coord = tf.train.Coordinator()\n",
    "    threads = tf.train.start_queue_runners(coord=coord)\n",
    "    for i in range(5):\n",
    "        example, l = sess.run([image, label])  # 在會話中取出image和label數據\n",
    "        example *= 255\n",
    "        img = Image.fromarray(example)\n",
    "        plt.title(\"The picture number is \" + str(l))\n",
    "        plt.figure(figsize=(5,5))\n",
    "        plt.imshow(img)\n",
    "        plt.show(img)\n",
    "        # 以bmp格式存儲本地\n",
    "        # example = np.array(example, dtype='uint8')\n",
    "        # img=Image.fromarray(example)\n",
    "        # img.save(str(i)+'_''Label_'+str(l)+'.bmp','bmp')# 保存圖\n",
    "    coord.request_stop()\n",
    "    coord.join(threads)\n",
    "    "
   ]
  },
  {
   "cell_type": "markdown",
   "metadata": {},
   "source": [
    "<img src=\"./img/srecc.png\">"
   ]
  },
  {
   "cell_type": "markdown",
   "metadata": {},
   "source": [
    "## 二、實現總結\n",
    "1. 對數據成功完成數據轉儲並再現了數據，數據準確無誤\n",
    "2. 嗯，沒什麼說的了。\n",
    "\n",
    "#### 完成時間：2017年11月15日，完成人：土豆豆\n"
   ]
  },
  {
   "cell_type": "code",
   "execution_count": null,
   "metadata": {},
   "outputs": [],
   "source": []
  }
 ],
 "metadata": {
  "kernelspec": {
   "display_name": "Python 2",
   "language": "python",
   "name": "python2"
  },
  "language_info": {
   "codemirror_mode": {
    "name": "ipython",
    "version": 2
   },
   "file_extension": ".py",
   "mimetype": "text/x-python",
   "name": "python",
   "nbconvert_exporter": "python",
   "pygments_lexer": "ipython2",
   "version": "2.7.6"
  }
 },
 "nbformat": 4,
 "nbformat_minor": 0
}
